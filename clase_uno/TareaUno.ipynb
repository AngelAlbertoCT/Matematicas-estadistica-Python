{
 "cells": [
  {
   "cell_type": "markdown",
   "id": "84862b4a",
   "metadata": {},
   "source": [
    "#### Ejercicio uno"
   ]
  },
  {
   "cell_type": "code",
   "execution_count": 2,
   "id": "73d3cca9",
   "metadata": {},
   "outputs": [],
   "source": [
    "import math"
   ]
  },
  {
   "cell_type": "code",
   "execution_count": 5,
   "id": "71436fb3",
   "metadata": {},
   "outputs": [
    {
     "name": "stdout",
     "output_type": "stream",
     "text": [
      "11\n"
     ]
    }
   ],
   "source": [
    "print(math.ceil(math.log(2000,2)))"
   ]
  },
  {
   "cell_type": "markdown",
   "id": "8bceab0f",
   "metadata": {},
   "source": [
    "#### Ejercicio dos"
   ]
  },
  {
   "cell_type": "code",
   "execution_count": 6,
   "id": "7f8754d3",
   "metadata": {},
   "outputs": [
    {
     "name": "stdout",
     "output_type": "stream",
     "text": [
      "1.0\n"
     ]
    }
   ],
   "source": [
    "print(math.log(2,2)+math.log(1,2))"
   ]
  },
  {
   "cell_type": "markdown",
   "id": "cd1d1728",
   "metadata": {},
   "source": [
    "#### Ejercicio tres"
   ]
  },
  {
   "cell_type": "code",
   "execution_count": 4,
   "id": "6635983f",
   "metadata": {
    "scrolled": true
   },
   "outputs": [
    {
     "name": "stdout",
     "output_type": "stream",
     "text": [
      "-1.0\n",
      "1.2246467991473532e-16\n",
      "-1.2246467991473532e-16\n"
     ]
    }
   ],
   "source": [
    "radianes=(math.pi/180)*180\n",
    "print(math.cos(radianes))\n",
    "print(math.sin(radianes))\n",
    "print(math.tan(radianes))"
   ]
  },
  {
   "cell_type": "code",
   "execution_count": 10,
   "id": "c40b76b0",
   "metadata": {},
   "outputs": [
    {
     "name": "stdout",
     "output_type": "stream",
     "text": [
      "-0.7071067811865475\n",
      "0.7071067811865476\n",
      "-1.0000000000000002\n"
     ]
    }
   ],
   "source": [
    "radianes=(math.pi/180)*135\n",
    "print(math.cos(radianes))\n",
    "print(math.sin(radianes))\n",
    "print(math.tan(radianes))"
   ]
  },
  {
   "cell_type": "code",
   "execution_count": 5,
   "id": "b97cef11",
   "metadata": {
    "scrolled": true
   },
   "outputs": [
    {
     "name": "stdout",
     "output_type": "stream",
     "text": [
      "0.8660254037844384\n",
      "-0.5000000000000004\n",
      "-0.5773502691896265\n"
     ]
    }
   ],
   "source": [
    "radianes=(math.pi/180)*330\n",
    "print(math.cos(radianes))\n",
    "print(math.sin(radianes))\n",
    "print(math.tan(radianes))"
   ]
  },
  {
   "cell_type": "code",
   "execution_count": 6,
   "id": "cc277e28",
   "metadata": {},
   "outputs": [
    {
     "name": "stdout",
     "output_type": "stream",
     "text": [
      "0.8660254037844392\n",
      "0.49999999999999906\n",
      "0.5773502691896243\n"
     ]
    }
   ],
   "source": [
    "radianes=(math.pi/180)*750\n",
    "print(math.cos(radianes))\n",
    "print(math.sin(radianes))\n",
    "print(math.tan(radianes))"
   ]
  },
  {
   "cell_type": "markdown",
   "id": "e81b2f35",
   "metadata": {},
   "source": [
    "#### Ejercicio cuatro"
   ]
  },
  {
   "cell_type": "code",
   "execution_count": 11,
   "id": "c207570b",
   "metadata": {},
   "outputs": [
    {
     "name": "stdout",
     "output_type": "stream",
     "text": [
      "11232000\n"
     ]
    }
   ],
   "source": [
    "print(math.perm(26,3)*math.perm(10,3))"
   ]
  },
  {
   "cell_type": "code",
   "execution_count": 13,
   "id": "e6e4249f",
   "metadata": {
    "scrolled": true
   },
   "outputs": [
    {
     "name": "stdout",
     "output_type": "stream",
     "text": [
      "17576000.0\n"
     ]
    }
   ],
   "source": [
    "print(math.pow(26,3)*math.pow(10,3))"
   ]
  },
  {
   "cell_type": "markdown",
   "id": "00c630fd",
   "metadata": {},
   "source": [
    "#### Ejercicio 5"
   ]
  },
  {
   "cell_type": "code",
   "execution_count": 14,
   "id": "95ca2b1b",
   "metadata": {},
   "outputs": [
    {
     "name": "stdout",
     "output_type": "stream",
     "text": [
      "10\n"
     ]
    }
   ],
   "source": [
    "print(math.comb(5,3))"
   ]
  }
 ],
 "metadata": {
  "kernelspec": {
   "display_name": "Python 3 (ipykernel)",
   "language": "python",
   "name": "python3"
  },
  "language_info": {
   "codemirror_mode": {
    "name": "ipython",
    "version": 3
   },
   "file_extension": ".py",
   "mimetype": "text/x-python",
   "name": "python",
   "nbconvert_exporter": "python",
   "pygments_lexer": "ipython3",
   "version": "3.10.9"
  }
 },
 "nbformat": 4,
 "nbformat_minor": 5
}
