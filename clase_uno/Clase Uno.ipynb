{
 "cells": [
  {
   "cell_type": "markdown",
   "id": "dcb0202e",
   "metadata": {},
   "source": [
    "## Tipo de datos con Python"
   ]
  },
  {
   "cell_type": "code",
   "execution_count": 4,
   "id": "9a32e2bb",
   "metadata": {},
   "outputs": [],
   "source": [
    "from decimal import Decimal\n",
    "from decimal import getcontext\n",
    "from decimal import localcontext\n",
    "from fractions import Fraction\n",
    "import math\n",
    "ctx=getcontext()"
   ]
  },
  {
   "cell_type": "markdown",
   "id": "86f4c492",
   "metadata": {},
   "source": [
    "### Tipo de dato decimal"
   ]
  },
  {
   "cell_type": "code",
   "execution_count": 7,
   "id": "fda24203",
   "metadata": {},
   "outputs": [
    {
     "name": "stdout",
     "output_type": "stream",
     "text": [
      "1.644510182156941083123019010\n"
     ]
    }
   ],
   "source": [
    "num1=Decimal('1.1324242')\n",
    "print(num1**4)"
   ]
  },
  {
   "cell_type": "code",
   "execution_count": 8,
   "id": "3b96dca5",
   "metadata": {},
   "outputs": [
    {
     "name": "stdout",
     "output_type": "stream",
     "text": [
      "1.64\n"
     ]
    }
   ],
   "source": [
    "ctx.prec=3\n",
    "print(num1**4)"
   ]
  },
  {
   "cell_type": "code",
   "execution_count": 9,
   "id": "755849f0",
   "metadata": {},
   "outputs": [
    {
     "name": "stdout",
     "output_type": "stream",
     "text": [
      "1.6\n",
      "1.64\n"
     ]
    }
   ],
   "source": [
    "with localcontext() as ctx:\n",
    "    ctx.prec=2\n",
    "    print(num1**4)\n",
    "print(num1**4)"
   ]
  },
  {
   "cell_type": "code",
   "execution_count": 11,
   "id": "d5603da0",
   "metadata": {},
   "outputs": [
    {
     "name": "stdout",
     "output_type": "stream",
     "text": [
      "(4+2j)\n"
     ]
    }
   ],
   "source": [
    "z=1+2j\n",
    "print(z+3)"
   ]
  },
  {
   "cell_type": "code",
   "execution_count": 12,
   "id": "cdae6cee",
   "metadata": {},
   "outputs": [
    {
     "name": "stdout",
     "output_type": "stream",
     "text": [
      "7/10\n"
     ]
    }
   ],
   "source": [
    "num2=Fraction(1,2)\n",
    "num3=Fraction(1,5)\n",
    "print(num2+num3)"
   ]
  },
  {
   "cell_type": "code",
   "execution_count": 14,
   "id": "8ce57f36",
   "metadata": {},
   "outputs": [
    {
     "name": "stdout",
     "output_type": "stream",
     "text": [
      "8.0\n"
     ]
    }
   ],
   "source": [
    "print(math.sqrt(64))"
   ]
  },
  {
   "cell_type": "code",
   "execution_count": 16,
   "id": "98cd6fc9",
   "metadata": {},
   "outputs": [
    {
     "name": "stdout",
     "output_type": "stream",
     "text": [
      "0.7071067811865475\n",
      "0.7071067811865476\n",
      "0.9999999999999999\n"
     ]
    }
   ],
   "source": [
    "theta=math.pi/4\n",
    "print(math.sin(theta))\n",
    "print(math.cos(theta))\n",
    "print(math.tan(theta))"
   ]
  },
  {
   "cell_type": "code",
   "execution_count": 19,
   "id": "7e3ead2e",
   "metadata": {},
   "outputs": [
    {
     "name": "stdout",
     "output_type": "stream",
     "text": [
      "1.0\n",
      "2.0\n",
      "2.302585092994046\n"
     ]
    }
   ],
   "source": [
    "print(math.log(10,10))\n",
    "print(math.log(25,5))\n",
    "print(math.log(10))#Base e"
   ]
  },
  {
   "cell_type": "code",
   "execution_count": 21,
   "id": "fa69eef8",
   "metadata": {},
   "outputs": [
    {
     "name": "stdout",
     "output_type": "stream",
     "text": [
      "2\n"
     ]
    }
   ],
   "source": [
    "print(math.gcd(2,4,8))#Maximo común divisor"
   ]
  },
  {
   "cell_type": "code",
   "execution_count": 24,
   "id": "13cad93b",
   "metadata": {},
   "outputs": [
    {
     "name": "stdout",
     "output_type": "stream",
     "text": [
      "3\n",
      "6\n",
      "24\n"
     ]
    }
   ],
   "source": [
    "print(math.comb(3,2))#Combinaciones\n",
    "print(math.perm(3,2))#Permutaciones\n",
    "print(math.factorial(4))"
   ]
  },
  {
   "cell_type": "code",
   "execution_count": 25,
   "id": "9dfb9827",
   "metadata": {},
   "outputs": [
    {
     "name": "stdout",
     "output_type": "stream",
     "text": [
      "[0.1, 0.1, 0.1, 0.1, 0.1, 0.1, 0.1, 0.1, 0.1, 0.1]\n",
      "0.9999999999999999\n",
      "1.0\n"
     ]
    }
   ],
   "source": [
    "listNum=[.1]*10\n",
    "print(listNum)\n",
    "print(sum(listNum))\n",
    "print(math.fsum(listNum))"
   ]
  },
  {
   "cell_type": "code",
   "execution_count": 26,
   "id": "efc6a605",
   "metadata": {},
   "outputs": [
    {
     "name": "stdout",
     "output_type": "stream",
     "text": [
      "1\n",
      "2\n"
     ]
    }
   ],
   "source": [
    "print(math.floor(1.65))\n",
    "print(math.ceil(1.3))"
   ]
  }
 ],
 "metadata": {
  "kernelspec": {
   "display_name": "Python 3 (ipykernel)",
   "language": "python",
   "name": "python3"
  },
  "language_info": {
   "codemirror_mode": {
    "name": "ipython",
    "version": 3
   },
   "file_extension": ".py",
   "mimetype": "text/x-python",
   "name": "python",
   "nbconvert_exporter": "python",
   "pygments_lexer": "ipython3",
   "version": "3.10.9"
  }
 },
 "nbformat": 4,
 "nbformat_minor": 5
}
